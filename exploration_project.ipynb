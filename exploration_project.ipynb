{
  "nbformat": 4,
  "nbformat_minor": 0,
  "metadata": {
    "kernelspec": {
      "display_name": "Python 3",
      "language": "python",
      "name": "python3"
    },
    "language_info": {
      "codemirror_mode": {
        "name": "ipython",
        "version": 3
      },
      "file_extension": ".py",
      "mimetype": "text/x-python",
      "name": "python",
      "nbconvert_exporter": "python",
      "pygments_lexer": "ipython3",
      "version": "3.8.3"
    },
    "colab": {
      "name": "Copy of exploration_project.ipynb",
      "provenance": [],
      "toc_visible": true
    }
  },
  "cells": [
    {
      "cell_type": "markdown",
      "metadata": {
        "id": "E3q8Ai9RT8PT"
      },
      "source": [
        "# (Communicate Data Finding : Ford GoBike System Data)\n",
        "## by (Eng.Mohamed Mostafa)\n",
        "\n",
        "## Preliminary Wrangling\n",
        "\n",
        "> bicycle sharing system in California's San Francisco Bay Area. It is operated by Motivate in a partnership with the Metropolitan Transportation Commission and the Bay Area Air Quality Management District. Bay Wheels is the first regional and large-scale bicycle sharing system deployed in California and on the West Coast of the United States. It was established as Bay Area Bike Share in August 2013. As of January 2018, the Bay Wheels system had over 2,600 bicycles in 262 stations across San Francisco, East Bay and San Jose."
      ]
    },
    {
      "cell_type": "code",
      "metadata": {
        "id": "52ZkQ2EuT8Pc"
      },
      "source": [
        "# import all packages and set plots to be embedded inline\n",
        "import numpy as np\n",
        "import pandas as pd\n",
        "from datetime import datetime\n",
        "import matplotlib.pyplot as plt\n",
        "import seaborn as sb\n",
        "\n",
        "%matplotlib inline"
      ],
      "execution_count": 37,
      "outputs": []
    },
    {
      "cell_type": "code",
      "metadata": {
        "id": "SBrWb2_8T8Pd"
      },
      "source": [
        "#load in the dataset into pandas df \n",
        "df = pd.read_csv('201902-fordgobike-tripdata.csv')\n"
      ],
      "execution_count": 38,
      "outputs": []
    },
    {
      "cell_type": "code",
      "metadata": {
        "id": "A-3Xw3snT8Pe",
        "colab": {
          "base_uri": "https://localhost:8080/",
          "height": 343
        },
        "outputId": "8e74639d-4012-46a9-b118-47442a52faa9"
      },
      "source": [
        "#display first 5 row\n",
        "df.head()"
      ],
      "execution_count": 39,
      "outputs": [
        {
          "output_type": "execute_result",
          "data": {
            "text/html": [
              "<div>\n",
              "<style scoped>\n",
              "    .dataframe tbody tr th:only-of-type {\n",
              "        vertical-align: middle;\n",
              "    }\n",
              "\n",
              "    .dataframe tbody tr th {\n",
              "        vertical-align: top;\n",
              "    }\n",
              "\n",
              "    .dataframe thead th {\n",
              "        text-align: right;\n",
              "    }\n",
              "</style>\n",
              "<table border=\"1\" class=\"dataframe\">\n",
              "  <thead>\n",
              "    <tr style=\"text-align: right;\">\n",
              "      <th></th>\n",
              "      <th>duration_sec</th>\n",
              "      <th>start_time</th>\n",
              "      <th>end_time</th>\n",
              "      <th>start_station_id</th>\n",
              "      <th>start_station_name</th>\n",
              "      <th>start_station_latitude</th>\n",
              "      <th>start_station_longitude</th>\n",
              "      <th>end_station_id</th>\n",
              "      <th>end_station_name</th>\n",
              "      <th>end_station_latitude</th>\n",
              "      <th>end_station_longitude</th>\n",
              "      <th>bike_id</th>\n",
              "      <th>user_type</th>\n",
              "      <th>member_birth_year</th>\n",
              "      <th>member_gender</th>\n",
              "      <th>bike_share_for_all_trip</th>\n",
              "    </tr>\n",
              "  </thead>\n",
              "  <tbody>\n",
              "    <tr>\n",
              "      <th>0</th>\n",
              "      <td>52185</td>\n",
              "      <td>2019-02-28 17:32:10.1450</td>\n",
              "      <td>2019-03-01 08:01:55.9750</td>\n",
              "      <td>21.0</td>\n",
              "      <td>Montgomery St BART Station (Market St at 2nd St)</td>\n",
              "      <td>37.789625</td>\n",
              "      <td>-122.400811</td>\n",
              "      <td>13.0</td>\n",
              "      <td>Commercial St at Montgomery St</td>\n",
              "      <td>37.794231</td>\n",
              "      <td>-122.402923</td>\n",
              "      <td>4902</td>\n",
              "      <td>Customer</td>\n",
              "      <td>1984.0</td>\n",
              "      <td>Male</td>\n",
              "      <td>No</td>\n",
              "    </tr>\n",
              "    <tr>\n",
              "      <th>1</th>\n",
              "      <td>42521</td>\n",
              "      <td>2019-02-28 18:53:21.7890</td>\n",
              "      <td>2019-03-01 06:42:03.0560</td>\n",
              "      <td>23.0</td>\n",
              "      <td>The Embarcadero at Steuart St</td>\n",
              "      <td>37.791464</td>\n",
              "      <td>-122.391034</td>\n",
              "      <td>81.0</td>\n",
              "      <td>Berry St at 4th St</td>\n",
              "      <td>37.775880</td>\n",
              "      <td>-122.393170</td>\n",
              "      <td>2535</td>\n",
              "      <td>Customer</td>\n",
              "      <td>NaN</td>\n",
              "      <td>NaN</td>\n",
              "      <td>No</td>\n",
              "    </tr>\n",
              "    <tr>\n",
              "      <th>2</th>\n",
              "      <td>61854</td>\n",
              "      <td>2019-02-28 12:13:13.2180</td>\n",
              "      <td>2019-03-01 05:24:08.1460</td>\n",
              "      <td>86.0</td>\n",
              "      <td>Market St at Dolores St</td>\n",
              "      <td>37.769305</td>\n",
              "      <td>-122.426826</td>\n",
              "      <td>3.0</td>\n",
              "      <td>Powell St BART Station (Market St at 4th St)</td>\n",
              "      <td>37.786375</td>\n",
              "      <td>-122.404904</td>\n",
              "      <td>5905</td>\n",
              "      <td>Customer</td>\n",
              "      <td>1972.0</td>\n",
              "      <td>Male</td>\n",
              "      <td>No</td>\n",
              "    </tr>\n",
              "    <tr>\n",
              "      <th>3</th>\n",
              "      <td>36490</td>\n",
              "      <td>2019-02-28 17:54:26.0100</td>\n",
              "      <td>2019-03-01 04:02:36.8420</td>\n",
              "      <td>375.0</td>\n",
              "      <td>Grove St at Masonic Ave</td>\n",
              "      <td>37.774836</td>\n",
              "      <td>-122.446546</td>\n",
              "      <td>70.0</td>\n",
              "      <td>Central Ave at Fell St</td>\n",
              "      <td>37.773311</td>\n",
              "      <td>-122.444293</td>\n",
              "      <td>6638</td>\n",
              "      <td>Subscriber</td>\n",
              "      <td>1989.0</td>\n",
              "      <td>Other</td>\n",
              "      <td>No</td>\n",
              "    </tr>\n",
              "    <tr>\n",
              "      <th>4</th>\n",
              "      <td>1585</td>\n",
              "      <td>2019-02-28 23:54:18.5490</td>\n",
              "      <td>2019-03-01 00:20:44.0740</td>\n",
              "      <td>7.0</td>\n",
              "      <td>Frank H Ogawa Plaza</td>\n",
              "      <td>37.804562</td>\n",
              "      <td>-122.271738</td>\n",
              "      <td>222.0</td>\n",
              "      <td>10th Ave at E 15th St</td>\n",
              "      <td>37.792714</td>\n",
              "      <td>-122.248780</td>\n",
              "      <td>4898</td>\n",
              "      <td>Subscriber</td>\n",
              "      <td>1974.0</td>\n",
              "      <td>Male</td>\n",
              "      <td>Yes</td>\n",
              "    </tr>\n",
              "  </tbody>\n",
              "</table>\n",
              "</div>"
            ],
            "text/plain": [
              "   duration_sec                start_time  ... member_gender  bike_share_for_all_trip\n",
              "0         52185  2019-02-28 17:32:10.1450  ...          Male                       No\n",
              "1         42521  2019-02-28 18:53:21.7890  ...           NaN                       No\n",
              "2         61854  2019-02-28 12:13:13.2180  ...          Male                       No\n",
              "3         36490  2019-02-28 17:54:26.0100  ...         Other                       No\n",
              "4          1585  2019-02-28 23:54:18.5490  ...          Male                      Yes\n",
              "\n",
              "[5 rows x 16 columns]"
            ]
          },
          "metadata": {
            "tags": []
          },
          "execution_count": 39
        }
      ]
    },
    {
      "cell_type": "code",
      "metadata": {
        "id": "ZRxqRf9gT8Pf",
        "colab": {
          "base_uri": "https://localhost:8080/"
        },
        "outputId": "b3fa72f5-71a0-4e20-b1a2-6a85a5f73f26"
      },
      "source": [
        "#explor the dataset\n",
        "df.shape"
      ],
      "execution_count": 40,
      "outputs": [
        {
          "output_type": "execute_result",
          "data": {
            "text/plain": [
              "(183412, 16)"
            ]
          },
          "metadata": {
            "tags": []
          },
          "execution_count": 40
        }
      ]
    },
    {
      "cell_type": "code",
      "metadata": {
        "id": "YYvEGZXYT8Pg",
        "colab": {
          "base_uri": "https://localhost:8080/"
        },
        "outputId": "96d5bc88-7c31-41c6-df40-b68d94826837"
      },
      "source": [
        "df.info()"
      ],
      "execution_count": 41,
      "outputs": [
        {
          "output_type": "stream",
          "text": [
            "<class 'pandas.core.frame.DataFrame'>\n",
            "RangeIndex: 183412 entries, 0 to 183411\n",
            "Data columns (total 16 columns):\n",
            " #   Column                   Non-Null Count   Dtype  \n",
            "---  ------                   --------------   -----  \n",
            " 0   duration_sec             183412 non-null  int64  \n",
            " 1   start_time               183412 non-null  object \n",
            " 2   end_time                 183412 non-null  object \n",
            " 3   start_station_id         183215 non-null  float64\n",
            " 4   start_station_name       183215 non-null  object \n",
            " 5   start_station_latitude   183412 non-null  float64\n",
            " 6   start_station_longitude  183412 non-null  float64\n",
            " 7   end_station_id           183215 non-null  float64\n",
            " 8   end_station_name         183215 non-null  object \n",
            " 9   end_station_latitude     183412 non-null  float64\n",
            " 10  end_station_longitude    183412 non-null  float64\n",
            " 11  bike_id                  183412 non-null  int64  \n",
            " 12  user_type                183412 non-null  object \n",
            " 13  member_birth_year        175147 non-null  float64\n",
            " 14  member_gender            175147 non-null  object \n",
            " 15  bike_share_for_all_trip  183412 non-null  object \n",
            "dtypes: float64(7), int64(2), object(7)\n",
            "memory usage: 22.4+ MB\n"
          ],
          "name": "stdout"
        }
      ]
    },
    {
      "cell_type": "code",
      "metadata": {
        "id": "wHF7Km6AT8Ph",
        "colab": {
          "base_uri": "https://localhost:8080/",
          "height": 609
        },
        "outputId": "2cd6bca6-25a3-4000-e38e-f607d94d850c"
      },
      "source": [
        "#display the null values\n",
        "df[df.isnull().any(axis=1)]"
      ],
      "execution_count": 42,
      "outputs": [
        {
          "output_type": "execute_result",
          "data": {
            "text/html": [
              "<div>\n",
              "<style scoped>\n",
              "    .dataframe tbody tr th:only-of-type {\n",
              "        vertical-align: middle;\n",
              "    }\n",
              "\n",
              "    .dataframe tbody tr th {\n",
              "        vertical-align: top;\n",
              "    }\n",
              "\n",
              "    .dataframe thead th {\n",
              "        text-align: right;\n",
              "    }\n",
              "</style>\n",
              "<table border=\"1\" class=\"dataframe\">\n",
              "  <thead>\n",
              "    <tr style=\"text-align: right;\">\n",
              "      <th></th>\n",
              "      <th>duration_sec</th>\n",
              "      <th>start_time</th>\n",
              "      <th>end_time</th>\n",
              "      <th>start_station_id</th>\n",
              "      <th>start_station_name</th>\n",
              "      <th>start_station_latitude</th>\n",
              "      <th>start_station_longitude</th>\n",
              "      <th>end_station_id</th>\n",
              "      <th>end_station_name</th>\n",
              "      <th>end_station_latitude</th>\n",
              "      <th>end_station_longitude</th>\n",
              "      <th>bike_id</th>\n",
              "      <th>user_type</th>\n",
              "      <th>member_birth_year</th>\n",
              "      <th>member_gender</th>\n",
              "      <th>bike_share_for_all_trip</th>\n",
              "    </tr>\n",
              "  </thead>\n",
              "  <tbody>\n",
              "    <tr>\n",
              "      <th>1</th>\n",
              "      <td>42521</td>\n",
              "      <td>2019-02-28 18:53:21.7890</td>\n",
              "      <td>2019-03-01 06:42:03.0560</td>\n",
              "      <td>23.0</td>\n",
              "      <td>The Embarcadero at Steuart St</td>\n",
              "      <td>37.791464</td>\n",
              "      <td>-122.391034</td>\n",
              "      <td>81.0</td>\n",
              "      <td>Berry St at 4th St</td>\n",
              "      <td>37.775880</td>\n",
              "      <td>-122.393170</td>\n",
              "      <td>2535</td>\n",
              "      <td>Customer</td>\n",
              "      <td>NaN</td>\n",
              "      <td>NaN</td>\n",
              "      <td>No</td>\n",
              "    </tr>\n",
              "    <tr>\n",
              "      <th>13</th>\n",
              "      <td>915</td>\n",
              "      <td>2019-02-28 23:49:06.0620</td>\n",
              "      <td>2019-03-01 00:04:21.8670</td>\n",
              "      <td>252.0</td>\n",
              "      <td>Channing Way at Shattuck Ave</td>\n",
              "      <td>37.865847</td>\n",
              "      <td>-122.267443</td>\n",
              "      <td>244.0</td>\n",
              "      <td>Shattuck Ave at Hearst Ave</td>\n",
              "      <td>37.873676</td>\n",
              "      <td>-122.268487</td>\n",
              "      <td>5101</td>\n",
              "      <td>Subscriber</td>\n",
              "      <td>NaN</td>\n",
              "      <td>NaN</td>\n",
              "      <td>No</td>\n",
              "    </tr>\n",
              "    <tr>\n",
              "      <th>28</th>\n",
              "      <td>650</td>\n",
              "      <td>2019-02-28 23:43:27.5030</td>\n",
              "      <td>2019-02-28 23:54:18.4510</td>\n",
              "      <td>258.0</td>\n",
              "      <td>University Ave at Oxford St</td>\n",
              "      <td>37.872355</td>\n",
              "      <td>-122.266447</td>\n",
              "      <td>263.0</td>\n",
              "      <td>Channing Way at San Pablo Ave</td>\n",
              "      <td>37.862827</td>\n",
              "      <td>-122.290230</td>\n",
              "      <td>4784</td>\n",
              "      <td>Customer</td>\n",
              "      <td>NaN</td>\n",
              "      <td>NaN</td>\n",
              "      <td>No</td>\n",
              "    </tr>\n",
              "    <tr>\n",
              "      <th>53</th>\n",
              "      <td>3418</td>\n",
              "      <td>2019-02-28 22:41:16.3620</td>\n",
              "      <td>2019-02-28 23:38:14.3630</td>\n",
              "      <td>11.0</td>\n",
              "      <td>Davis St at Jackson St</td>\n",
              "      <td>37.797280</td>\n",
              "      <td>-122.398436</td>\n",
              "      <td>11.0</td>\n",
              "      <td>Davis St at Jackson St</td>\n",
              "      <td>37.797280</td>\n",
              "      <td>-122.398436</td>\n",
              "      <td>319</td>\n",
              "      <td>Customer</td>\n",
              "      <td>NaN</td>\n",
              "      <td>NaN</td>\n",
              "      <td>No</td>\n",
              "    </tr>\n",
              "    <tr>\n",
              "      <th>65</th>\n",
              "      <td>926</td>\n",
              "      <td>2019-02-28 23:17:05.8530</td>\n",
              "      <td>2019-02-28 23:32:32.6820</td>\n",
              "      <td>13.0</td>\n",
              "      <td>Commercial St at Montgomery St</td>\n",
              "      <td>37.794231</td>\n",
              "      <td>-122.402923</td>\n",
              "      <td>81.0</td>\n",
              "      <td>Berry St at 4th St</td>\n",
              "      <td>37.775880</td>\n",
              "      <td>-122.393170</td>\n",
              "      <td>2951</td>\n",
              "      <td>Subscriber</td>\n",
              "      <td>NaN</td>\n",
              "      <td>NaN</td>\n",
              "      <td>No</td>\n",
              "    </tr>\n",
              "    <tr>\n",
              "      <th>...</th>\n",
              "      <td>...</td>\n",
              "      <td>...</td>\n",
              "      <td>...</td>\n",
              "      <td>...</td>\n",
              "      <td>...</td>\n",
              "      <td>...</td>\n",
              "      <td>...</td>\n",
              "      <td>...</td>\n",
              "      <td>...</td>\n",
              "      <td>...</td>\n",
              "      <td>...</td>\n",
              "      <td>...</td>\n",
              "      <td>...</td>\n",
              "      <td>...</td>\n",
              "      <td>...</td>\n",
              "      <td>...</td>\n",
              "    </tr>\n",
              "    <tr>\n",
              "      <th>183354</th>\n",
              "      <td>449</td>\n",
              "      <td>2019-02-01 01:35:07.6630</td>\n",
              "      <td>2019-02-01 01:42:36.8780</td>\n",
              "      <td>244.0</td>\n",
              "      <td>Shattuck Ave at Hearst Ave</td>\n",
              "      <td>37.873676</td>\n",
              "      <td>-122.268487</td>\n",
              "      <td>253.0</td>\n",
              "      <td>Haste St at College Ave</td>\n",
              "      <td>37.866418</td>\n",
              "      <td>-122.253799</td>\n",
              "      <td>5430</td>\n",
              "      <td>Customer</td>\n",
              "      <td>NaN</td>\n",
              "      <td>NaN</td>\n",
              "      <td>No</td>\n",
              "    </tr>\n",
              "    <tr>\n",
              "      <th>183356</th>\n",
              "      <td>795</td>\n",
              "      <td>2019-02-01 01:25:50.3660</td>\n",
              "      <td>2019-02-01 01:39:05.9500</td>\n",
              "      <td>368.0</td>\n",
              "      <td>Myrtle St at Polk St</td>\n",
              "      <td>37.785434</td>\n",
              "      <td>-122.419622</td>\n",
              "      <td>125.0</td>\n",
              "      <td>20th St at Bryant St</td>\n",
              "      <td>37.759200</td>\n",
              "      <td>-122.409851</td>\n",
              "      <td>5400</td>\n",
              "      <td>Subscriber</td>\n",
              "      <td>NaN</td>\n",
              "      <td>NaN</td>\n",
              "      <td>No</td>\n",
              "    </tr>\n",
              "    <tr>\n",
              "      <th>183363</th>\n",
              "      <td>673</td>\n",
              "      <td>2019-02-01 01:12:24.4200</td>\n",
              "      <td>2019-02-01 01:23:37.6450</td>\n",
              "      <td>75.0</td>\n",
              "      <td>Market St at Franklin St</td>\n",
              "      <td>37.773793</td>\n",
              "      <td>-122.421239</td>\n",
              "      <td>133.0</td>\n",
              "      <td>Valencia St at 22nd St</td>\n",
              "      <td>37.755213</td>\n",
              "      <td>-122.420975</td>\n",
              "      <td>5166</td>\n",
              "      <td>Customer</td>\n",
              "      <td>NaN</td>\n",
              "      <td>NaN</td>\n",
              "      <td>No</td>\n",
              "    </tr>\n",
              "    <tr>\n",
              "      <th>183371</th>\n",
              "      <td>196</td>\n",
              "      <td>2019-02-01 01:08:38.6410</td>\n",
              "      <td>2019-02-01 01:11:54.9490</td>\n",
              "      <td>58.0</td>\n",
              "      <td>Market St at 10th St</td>\n",
              "      <td>37.776619</td>\n",
              "      <td>-122.417385</td>\n",
              "      <td>75.0</td>\n",
              "      <td>Market St at Franklin St</td>\n",
              "      <td>37.773793</td>\n",
              "      <td>-122.421239</td>\n",
              "      <td>2395</td>\n",
              "      <td>Customer</td>\n",
              "      <td>NaN</td>\n",
              "      <td>NaN</td>\n",
              "      <td>No</td>\n",
              "    </tr>\n",
              "    <tr>\n",
              "      <th>183402</th>\n",
              "      <td>122</td>\n",
              "      <td>2019-02-01 00:17:32.2580</td>\n",
              "      <td>2019-02-01 00:19:34.9380</td>\n",
              "      <td>119.0</td>\n",
              "      <td>18th St at Noe St</td>\n",
              "      <td>37.761047</td>\n",
              "      <td>-122.432642</td>\n",
              "      <td>120.0</td>\n",
              "      <td>Mission Dolores Park</td>\n",
              "      <td>37.761420</td>\n",
              "      <td>-122.426435</td>\n",
              "      <td>4326</td>\n",
              "      <td>Subscriber</td>\n",
              "      <td>NaN</td>\n",
              "      <td>NaN</td>\n",
              "      <td>No</td>\n",
              "    </tr>\n",
              "  </tbody>\n",
              "</table>\n",
              "<p>8460 rows × 16 columns</p>\n",
              "</div>"
            ],
            "text/plain": [
              "        duration_sec  ... bike_share_for_all_trip\n",
              "1              42521  ...                      No\n",
              "13               915  ...                      No\n",
              "28               650  ...                      No\n",
              "53              3418  ...                      No\n",
              "65               926  ...                      No\n",
              "...              ...  ...                     ...\n",
              "183354           449  ...                      No\n",
              "183356           795  ...                      No\n",
              "183363           673  ...                      No\n",
              "183371           196  ...                      No\n",
              "183402           122  ...                      No\n",
              "\n",
              "[8460 rows x 16 columns]"
            ]
          },
          "metadata": {
            "tags": []
          },
          "execution_count": 42
        }
      ]
    },
    {
      "cell_type": "code",
      "metadata": {
        "id": "YSpdpJAuT8Ph"
      },
      "source": [
        "#drop null records\n",
        "df.dropna(axis=0,inplace=True)"
      ],
      "execution_count": 43,
      "outputs": []
    },
    {
      "cell_type": "code",
      "metadata": {
        "id": "XTqZ0FtcT8Pi",
        "colab": {
          "base_uri": "https://localhost:8080/"
        },
        "outputId": "acd3afb5-04f5-40c8-a72b-e748daabb0bd"
      },
      "source": [
        "df.shape"
      ],
      "execution_count": 44,
      "outputs": [
        {
          "output_type": "execute_result",
          "data": {
            "text/plain": [
              "(174952, 16)"
            ]
          },
          "metadata": {
            "tags": []
          },
          "execution_count": 44
        }
      ]
    },
    {
      "cell_type": "code",
      "metadata": {
        "id": "5kI1LQiVT8Pi"
      },
      "source": [
        "#creating a list of columb to be deleted\n",
        "del_col=[ 'end_station_longitude', 'end_station_latitude', 'start_station_latitude', 'start_station_longitude','bike_share_for_all_trip']\n",
        "\n",
        "#deleting the columns\n",
        "df= df.drop(del_col,1)\n",
        "\n"
      ],
      "execution_count": 45,
      "outputs": []
    },
    {
      "cell_type": "code",
      "metadata": {
        "id": "5xjtJtBnT8Pi",
        "colab": {
          "base_uri": "https://localhost:8080/",
          "height": 343
        },
        "outputId": "6299ff28-9f7d-4e98-ab70-4fff23546271"
      },
      "source": [
        "#previewing the new dataset\n",
        "df.head()"
      ],
      "execution_count": 46,
      "outputs": [
        {
          "output_type": "execute_result",
          "data": {
            "text/html": [
              "<div>\n",
              "<style scoped>\n",
              "    .dataframe tbody tr th:only-of-type {\n",
              "        vertical-align: middle;\n",
              "    }\n",
              "\n",
              "    .dataframe tbody tr th {\n",
              "        vertical-align: top;\n",
              "    }\n",
              "\n",
              "    .dataframe thead th {\n",
              "        text-align: right;\n",
              "    }\n",
              "</style>\n",
              "<table border=\"1\" class=\"dataframe\">\n",
              "  <thead>\n",
              "    <tr style=\"text-align: right;\">\n",
              "      <th></th>\n",
              "      <th>duration_sec</th>\n",
              "      <th>start_time</th>\n",
              "      <th>end_time</th>\n",
              "      <th>start_station_id</th>\n",
              "      <th>start_station_name</th>\n",
              "      <th>end_station_id</th>\n",
              "      <th>end_station_name</th>\n",
              "      <th>bike_id</th>\n",
              "      <th>user_type</th>\n",
              "      <th>member_birth_year</th>\n",
              "      <th>member_gender</th>\n",
              "    </tr>\n",
              "  </thead>\n",
              "  <tbody>\n",
              "    <tr>\n",
              "      <th>0</th>\n",
              "      <td>52185</td>\n",
              "      <td>2019-02-28 17:32:10.1450</td>\n",
              "      <td>2019-03-01 08:01:55.9750</td>\n",
              "      <td>21.0</td>\n",
              "      <td>Montgomery St BART Station (Market St at 2nd St)</td>\n",
              "      <td>13.0</td>\n",
              "      <td>Commercial St at Montgomery St</td>\n",
              "      <td>4902</td>\n",
              "      <td>Customer</td>\n",
              "      <td>1984.0</td>\n",
              "      <td>Male</td>\n",
              "    </tr>\n",
              "    <tr>\n",
              "      <th>2</th>\n",
              "      <td>61854</td>\n",
              "      <td>2019-02-28 12:13:13.2180</td>\n",
              "      <td>2019-03-01 05:24:08.1460</td>\n",
              "      <td>86.0</td>\n",
              "      <td>Market St at Dolores St</td>\n",
              "      <td>3.0</td>\n",
              "      <td>Powell St BART Station (Market St at 4th St)</td>\n",
              "      <td>5905</td>\n",
              "      <td>Customer</td>\n",
              "      <td>1972.0</td>\n",
              "      <td>Male</td>\n",
              "    </tr>\n",
              "    <tr>\n",
              "      <th>3</th>\n",
              "      <td>36490</td>\n",
              "      <td>2019-02-28 17:54:26.0100</td>\n",
              "      <td>2019-03-01 04:02:36.8420</td>\n",
              "      <td>375.0</td>\n",
              "      <td>Grove St at Masonic Ave</td>\n",
              "      <td>70.0</td>\n",
              "      <td>Central Ave at Fell St</td>\n",
              "      <td>6638</td>\n",
              "      <td>Subscriber</td>\n",
              "      <td>1989.0</td>\n",
              "      <td>Other</td>\n",
              "    </tr>\n",
              "    <tr>\n",
              "      <th>4</th>\n",
              "      <td>1585</td>\n",
              "      <td>2019-02-28 23:54:18.5490</td>\n",
              "      <td>2019-03-01 00:20:44.0740</td>\n",
              "      <td>7.0</td>\n",
              "      <td>Frank H Ogawa Plaza</td>\n",
              "      <td>222.0</td>\n",
              "      <td>10th Ave at E 15th St</td>\n",
              "      <td>4898</td>\n",
              "      <td>Subscriber</td>\n",
              "      <td>1974.0</td>\n",
              "      <td>Male</td>\n",
              "    </tr>\n",
              "    <tr>\n",
              "      <th>5</th>\n",
              "      <td>1793</td>\n",
              "      <td>2019-02-28 23:49:58.6320</td>\n",
              "      <td>2019-03-01 00:19:51.7600</td>\n",
              "      <td>93.0</td>\n",
              "      <td>4th St at Mission Bay Blvd S</td>\n",
              "      <td>323.0</td>\n",
              "      <td>Broadway at Kearny</td>\n",
              "      <td>5200</td>\n",
              "      <td>Subscriber</td>\n",
              "      <td>1959.0</td>\n",
              "      <td>Male</td>\n",
              "    </tr>\n",
              "  </tbody>\n",
              "</table>\n",
              "</div>"
            ],
            "text/plain": [
              "   duration_sec                start_time  ... member_birth_year  member_gender\n",
              "0         52185  2019-02-28 17:32:10.1450  ...            1984.0           Male\n",
              "2         61854  2019-02-28 12:13:13.2180  ...            1972.0           Male\n",
              "3         36490  2019-02-28 17:54:26.0100  ...            1989.0          Other\n",
              "4          1585  2019-02-28 23:54:18.5490  ...            1974.0           Male\n",
              "5          1793  2019-02-28 23:49:58.6320  ...            1959.0           Male\n",
              "\n",
              "[5 rows x 11 columns]"
            ]
          },
          "metadata": {
            "tags": []
          },
          "execution_count": 46
        }
      ]
    },
    {
      "cell_type": "code",
      "metadata": {
        "id": "azjm-aNdT8Pj"
      },
      "source": [
        "#add count coulome and set all values =1 to use it as acunter\n",
        "df['count']=1"
      ],
      "execution_count": 47,
      "outputs": []
    },
    {
      "cell_type": "code",
      "metadata": {
        "id": "IaiRgc2ZT8Pj"
      },
      "source": [
        "#add age coulome \n",
        "df['age']=2021-df['member_birth_year']"
      ],
      "execution_count": 48,
      "outputs": []
    },
    {
      "cell_type": "code",
      "metadata": {
        "id": "MMQDTc6xT8Pk",
        "colab": {
          "base_uri": "https://localhost:8080/",
          "height": 343
        },
        "outputId": "51b0bea7-372c-462f-bc94-028f9a055028"
      },
      "source": [
        "df.head()"
      ],
      "execution_count": 49,
      "outputs": [
        {
          "output_type": "execute_result",
          "data": {
            "text/html": [
              "<div>\n",
              "<style scoped>\n",
              "    .dataframe tbody tr th:only-of-type {\n",
              "        vertical-align: middle;\n",
              "    }\n",
              "\n",
              "    .dataframe tbody tr th {\n",
              "        vertical-align: top;\n",
              "    }\n",
              "\n",
              "    .dataframe thead th {\n",
              "        text-align: right;\n",
              "    }\n",
              "</style>\n",
              "<table border=\"1\" class=\"dataframe\">\n",
              "  <thead>\n",
              "    <tr style=\"text-align: right;\">\n",
              "      <th></th>\n",
              "      <th>duration_sec</th>\n",
              "      <th>start_time</th>\n",
              "      <th>end_time</th>\n",
              "      <th>start_station_id</th>\n",
              "      <th>start_station_name</th>\n",
              "      <th>end_station_id</th>\n",
              "      <th>end_station_name</th>\n",
              "      <th>bike_id</th>\n",
              "      <th>user_type</th>\n",
              "      <th>member_birth_year</th>\n",
              "      <th>member_gender</th>\n",
              "      <th>count</th>\n",
              "      <th>age</th>\n",
              "    </tr>\n",
              "  </thead>\n",
              "  <tbody>\n",
              "    <tr>\n",
              "      <th>0</th>\n",
              "      <td>52185</td>\n",
              "      <td>2019-02-28 17:32:10.1450</td>\n",
              "      <td>2019-03-01 08:01:55.9750</td>\n",
              "      <td>21.0</td>\n",
              "      <td>Montgomery St BART Station (Market St at 2nd St)</td>\n",
              "      <td>13.0</td>\n",
              "      <td>Commercial St at Montgomery St</td>\n",
              "      <td>4902</td>\n",
              "      <td>Customer</td>\n",
              "      <td>1984.0</td>\n",
              "      <td>Male</td>\n",
              "      <td>1</td>\n",
              "      <td>37.0</td>\n",
              "    </tr>\n",
              "    <tr>\n",
              "      <th>2</th>\n",
              "      <td>61854</td>\n",
              "      <td>2019-02-28 12:13:13.2180</td>\n",
              "      <td>2019-03-01 05:24:08.1460</td>\n",
              "      <td>86.0</td>\n",
              "      <td>Market St at Dolores St</td>\n",
              "      <td>3.0</td>\n",
              "      <td>Powell St BART Station (Market St at 4th St)</td>\n",
              "      <td>5905</td>\n",
              "      <td>Customer</td>\n",
              "      <td>1972.0</td>\n",
              "      <td>Male</td>\n",
              "      <td>1</td>\n",
              "      <td>49.0</td>\n",
              "    </tr>\n",
              "    <tr>\n",
              "      <th>3</th>\n",
              "      <td>36490</td>\n",
              "      <td>2019-02-28 17:54:26.0100</td>\n",
              "      <td>2019-03-01 04:02:36.8420</td>\n",
              "      <td>375.0</td>\n",
              "      <td>Grove St at Masonic Ave</td>\n",
              "      <td>70.0</td>\n",
              "      <td>Central Ave at Fell St</td>\n",
              "      <td>6638</td>\n",
              "      <td>Subscriber</td>\n",
              "      <td>1989.0</td>\n",
              "      <td>Other</td>\n",
              "      <td>1</td>\n",
              "      <td>32.0</td>\n",
              "    </tr>\n",
              "    <tr>\n",
              "      <th>4</th>\n",
              "      <td>1585</td>\n",
              "      <td>2019-02-28 23:54:18.5490</td>\n",
              "      <td>2019-03-01 00:20:44.0740</td>\n",
              "      <td>7.0</td>\n",
              "      <td>Frank H Ogawa Plaza</td>\n",
              "      <td>222.0</td>\n",
              "      <td>10th Ave at E 15th St</td>\n",
              "      <td>4898</td>\n",
              "      <td>Subscriber</td>\n",
              "      <td>1974.0</td>\n",
              "      <td>Male</td>\n",
              "      <td>1</td>\n",
              "      <td>47.0</td>\n",
              "    </tr>\n",
              "    <tr>\n",
              "      <th>5</th>\n",
              "      <td>1793</td>\n",
              "      <td>2019-02-28 23:49:58.6320</td>\n",
              "      <td>2019-03-01 00:19:51.7600</td>\n",
              "      <td>93.0</td>\n",
              "      <td>4th St at Mission Bay Blvd S</td>\n",
              "      <td>323.0</td>\n",
              "      <td>Broadway at Kearny</td>\n",
              "      <td>5200</td>\n",
              "      <td>Subscriber</td>\n",
              "      <td>1959.0</td>\n",
              "      <td>Male</td>\n",
              "      <td>1</td>\n",
              "      <td>62.0</td>\n",
              "    </tr>\n",
              "  </tbody>\n",
              "</table>\n",
              "</div>"
            ],
            "text/plain": [
              "   duration_sec                start_time  ... count   age\n",
              "0         52185  2019-02-28 17:32:10.1450  ...     1  37.0\n",
              "2         61854  2019-02-28 12:13:13.2180  ...     1  49.0\n",
              "3         36490  2019-02-28 17:54:26.0100  ...     1  32.0\n",
              "4          1585  2019-02-28 23:54:18.5490  ...     1  47.0\n",
              "5          1793  2019-02-28 23:49:58.6320  ...     1  62.0\n",
              "\n",
              "[5 rows x 13 columns]"
            ]
          },
          "metadata": {
            "tags": []
          },
          "execution_count": 49
        }
      ]
    },
    {
      "cell_type": "code",
      "metadata": {
        "id": "wa8wsb_mT8Pk"
      },
      "source": [
        "#convert start time and end time to date time and creating new coulme Hour , Day , Month\n",
        "#add coulum  duration_minute\n",
        "#filter the age max 80 year\n",
        "df['start_time']= pd.to_datetime(df['start_time'])\n",
        "df['end_time']= pd.to_datetime(df['end_time'])\n",
        "\n",
        "df['month'] = df.start_time.dt.strftime('%b')\n",
        "df['day'] = df.start_time.dt.strftime('%a')\n",
        "df['hour'] = df.start_time.dt.strftime('%H')\n",
        "df['duration_minute'] = df['duration_sec']/60\n",
        "df=  df.query('age <= 80')"
      ],
      "execution_count": 50,
      "outputs": []
    },
    {
      "cell_type": "code",
      "metadata": {
        "id": "6ELdEzWBS2Pg"
      },
      "source": [
        "df = df.query('duration_minute <= 66')\n"
      ],
      "execution_count": 51,
      "outputs": []
    },
    {
      "cell_type": "code",
      "metadata": {
        "id": "WqDBoySqT8Pk",
        "colab": {
          "base_uri": "https://localhost:8080/",
          "height": 309
        },
        "outputId": "5d83679c-1865-4d8d-c181-925c3fc0b065"
      },
      "source": [
        "df.head()"
      ],
      "execution_count": 52,
      "outputs": [
        {
          "output_type": "execute_result",
          "data": {
            "text/html": [
              "<div>\n",
              "<style scoped>\n",
              "    .dataframe tbody tr th:only-of-type {\n",
              "        vertical-align: middle;\n",
              "    }\n",
              "\n",
              "    .dataframe tbody tr th {\n",
              "        vertical-align: top;\n",
              "    }\n",
              "\n",
              "    .dataframe thead th {\n",
              "        text-align: right;\n",
              "    }\n",
              "</style>\n",
              "<table border=\"1\" class=\"dataframe\">\n",
              "  <thead>\n",
              "    <tr style=\"text-align: right;\">\n",
              "      <th></th>\n",
              "      <th>duration_sec</th>\n",
              "      <th>start_time</th>\n",
              "      <th>end_time</th>\n",
              "      <th>start_station_id</th>\n",
              "      <th>start_station_name</th>\n",
              "      <th>end_station_id</th>\n",
              "      <th>end_station_name</th>\n",
              "      <th>bike_id</th>\n",
              "      <th>user_type</th>\n",
              "      <th>member_birth_year</th>\n",
              "      <th>member_gender</th>\n",
              "      <th>count</th>\n",
              "      <th>age</th>\n",
              "      <th>month</th>\n",
              "      <th>day</th>\n",
              "      <th>hour</th>\n",
              "      <th>duration_minute</th>\n",
              "    </tr>\n",
              "  </thead>\n",
              "  <tbody>\n",
              "    <tr>\n",
              "      <th>4</th>\n",
              "      <td>1585</td>\n",
              "      <td>2019-02-28 23:54:18.549</td>\n",
              "      <td>2019-03-01 00:20:44.074</td>\n",
              "      <td>7.0</td>\n",
              "      <td>Frank H Ogawa Plaza</td>\n",
              "      <td>222.0</td>\n",
              "      <td>10th Ave at E 15th St</td>\n",
              "      <td>4898</td>\n",
              "      <td>Subscriber</td>\n",
              "      <td>1974.0</td>\n",
              "      <td>Male</td>\n",
              "      <td>1</td>\n",
              "      <td>47.0</td>\n",
              "      <td>Feb</td>\n",
              "      <td>Thu</td>\n",
              "      <td>23</td>\n",
              "      <td>26.416667</td>\n",
              "    </tr>\n",
              "    <tr>\n",
              "      <th>5</th>\n",
              "      <td>1793</td>\n",
              "      <td>2019-02-28 23:49:58.632</td>\n",
              "      <td>2019-03-01 00:19:51.760</td>\n",
              "      <td>93.0</td>\n",
              "      <td>4th St at Mission Bay Blvd S</td>\n",
              "      <td>323.0</td>\n",
              "      <td>Broadway at Kearny</td>\n",
              "      <td>5200</td>\n",
              "      <td>Subscriber</td>\n",
              "      <td>1959.0</td>\n",
              "      <td>Male</td>\n",
              "      <td>1</td>\n",
              "      <td>62.0</td>\n",
              "      <td>Feb</td>\n",
              "      <td>Thu</td>\n",
              "      <td>23</td>\n",
              "      <td>29.883333</td>\n",
              "    </tr>\n",
              "    <tr>\n",
              "      <th>6</th>\n",
              "      <td>1147</td>\n",
              "      <td>2019-02-28 23:55:35.104</td>\n",
              "      <td>2019-03-01 00:14:42.588</td>\n",
              "      <td>300.0</td>\n",
              "      <td>Palm St at Willow St</td>\n",
              "      <td>312.0</td>\n",
              "      <td>San Jose Diridon Station</td>\n",
              "      <td>3803</td>\n",
              "      <td>Subscriber</td>\n",
              "      <td>1983.0</td>\n",
              "      <td>Female</td>\n",
              "      <td>1</td>\n",
              "      <td>38.0</td>\n",
              "      <td>Feb</td>\n",
              "      <td>Thu</td>\n",
              "      <td>23</td>\n",
              "      <td>19.116667</td>\n",
              "    </tr>\n",
              "    <tr>\n",
              "      <th>7</th>\n",
              "      <td>1615</td>\n",
              "      <td>2019-02-28 23:41:06.766</td>\n",
              "      <td>2019-03-01 00:08:02.756</td>\n",
              "      <td>10.0</td>\n",
              "      <td>Washington St at Kearny St</td>\n",
              "      <td>127.0</td>\n",
              "      <td>Valencia St at 21st St</td>\n",
              "      <td>6329</td>\n",
              "      <td>Subscriber</td>\n",
              "      <td>1989.0</td>\n",
              "      <td>Male</td>\n",
              "      <td>1</td>\n",
              "      <td>32.0</td>\n",
              "      <td>Feb</td>\n",
              "      <td>Thu</td>\n",
              "      <td>23</td>\n",
              "      <td>26.916667</td>\n",
              "    </tr>\n",
              "    <tr>\n",
              "      <th>8</th>\n",
              "      <td>1570</td>\n",
              "      <td>2019-02-28 23:41:48.790</td>\n",
              "      <td>2019-03-01 00:07:59.715</td>\n",
              "      <td>10.0</td>\n",
              "      <td>Washington St at Kearny St</td>\n",
              "      <td>127.0</td>\n",
              "      <td>Valencia St at 21st St</td>\n",
              "      <td>6548</td>\n",
              "      <td>Subscriber</td>\n",
              "      <td>1988.0</td>\n",
              "      <td>Other</td>\n",
              "      <td>1</td>\n",
              "      <td>33.0</td>\n",
              "      <td>Feb</td>\n",
              "      <td>Thu</td>\n",
              "      <td>23</td>\n",
              "      <td>26.166667</td>\n",
              "    </tr>\n",
              "  </tbody>\n",
              "</table>\n",
              "</div>"
            ],
            "text/plain": [
              "   duration_sec              start_time  ... hour  duration_minute\n",
              "4          1585 2019-02-28 23:54:18.549  ...   23        26.416667\n",
              "5          1793 2019-02-28 23:49:58.632  ...   23        29.883333\n",
              "6          1147 2019-02-28 23:55:35.104  ...   23        19.116667\n",
              "7          1615 2019-02-28 23:41:06.766  ...   23        26.916667\n",
              "8          1570 2019-02-28 23:41:48.790  ...   23        26.166667\n",
              "\n",
              "[5 rows x 17 columns]"
            ]
          },
          "metadata": {
            "tags": []
          },
          "execution_count": 52
        }
      ]
    },
    {
      "cell_type": "code",
      "metadata": {
        "id": "NkbPxO2AT8Pl",
        "colab": {
          "base_uri": "https://localhost:8080/",
          "height": 317
        },
        "outputId": "beacddaa-f5d9-4729-9b1c-f3ba270cf31d"
      },
      "source": [
        "#explor data\n",
        "df.describe()"
      ],
      "execution_count": 53,
      "outputs": [
        {
          "output_type": "execute_result",
          "data": {
            "text/html": [
              "<div>\n",
              "<style scoped>\n",
              "    .dataframe tbody tr th:only-of-type {\n",
              "        vertical-align: middle;\n",
              "    }\n",
              "\n",
              "    .dataframe tbody tr th {\n",
              "        vertical-align: top;\n",
              "    }\n",
              "\n",
              "    .dataframe thead th {\n",
              "        text-align: right;\n",
              "    }\n",
              "</style>\n",
              "<table border=\"1\" class=\"dataframe\">\n",
              "  <thead>\n",
              "    <tr style=\"text-align: right;\">\n",
              "      <th></th>\n",
              "      <th>duration_sec</th>\n",
              "      <th>start_station_id</th>\n",
              "      <th>end_station_id</th>\n",
              "      <th>bike_id</th>\n",
              "      <th>member_birth_year</th>\n",
              "      <th>count</th>\n",
              "      <th>age</th>\n",
              "      <th>duration_minute</th>\n",
              "    </tr>\n",
              "  </thead>\n",
              "  <tbody>\n",
              "    <tr>\n",
              "      <th>count</th>\n",
              "      <td>173532.000000</td>\n",
              "      <td>173532.000000</td>\n",
              "      <td>173532.000000</td>\n",
              "      <td>173532.000000</td>\n",
              "      <td>173532.000000</td>\n",
              "      <td>173532.0</td>\n",
              "      <td>173532.000000</td>\n",
              "      <td>173532.000000</td>\n",
              "    </tr>\n",
              "    <tr>\n",
              "      <th>mean</th>\n",
              "      <td>621.756097</td>\n",
              "      <td>138.935585</td>\n",
              "      <td>136.482441</td>\n",
              "      <td>4481.369137</td>\n",
              "      <td>1984.882938</td>\n",
              "      <td>1.0</td>\n",
              "      <td>36.117062</td>\n",
              "      <td>10.362602</td>\n",
              "    </tr>\n",
              "    <tr>\n",
              "      <th>std</th>\n",
              "      <td>454.228496</td>\n",
              "      <td>111.471298</td>\n",
              "      <td>111.131948</td>\n",
              "      <td>1659.514361</td>\n",
              "      <td>9.868000</td>\n",
              "      <td>0.0</td>\n",
              "      <td>9.868000</td>\n",
              "      <td>7.570475</td>\n",
              "    </tr>\n",
              "    <tr>\n",
              "      <th>min</th>\n",
              "      <td>61.000000</td>\n",
              "      <td>3.000000</td>\n",
              "      <td>3.000000</td>\n",
              "      <td>11.000000</td>\n",
              "      <td>1941.000000</td>\n",
              "      <td>1.0</td>\n",
              "      <td>20.000000</td>\n",
              "      <td>1.016667</td>\n",
              "    </tr>\n",
              "    <tr>\n",
              "      <th>25%</th>\n",
              "      <td>322.000000</td>\n",
              "      <td>47.000000</td>\n",
              "      <td>44.000000</td>\n",
              "      <td>3799.000000</td>\n",
              "      <td>1980.000000</td>\n",
              "      <td>1.0</td>\n",
              "      <td>29.000000</td>\n",
              "      <td>5.366667</td>\n",
              "    </tr>\n",
              "    <tr>\n",
              "      <th>50%</th>\n",
              "      <td>508.000000</td>\n",
              "      <td>104.000000</td>\n",
              "      <td>101.000000</td>\n",
              "      <td>4960.000000</td>\n",
              "      <td>1987.000000</td>\n",
              "      <td>1.0</td>\n",
              "      <td>34.000000</td>\n",
              "      <td>8.466667</td>\n",
              "    </tr>\n",
              "    <tr>\n",
              "      <th>75%</th>\n",
              "      <td>781.000000</td>\n",
              "      <td>239.000000</td>\n",
              "      <td>237.000000</td>\n",
              "      <td>5505.000000</td>\n",
              "      <td>1992.000000</td>\n",
              "      <td>1.0</td>\n",
              "      <td>41.000000</td>\n",
              "      <td>13.016667</td>\n",
              "    </tr>\n",
              "    <tr>\n",
              "      <th>max</th>\n",
              "      <td>3960.000000</td>\n",
              "      <td>398.000000</td>\n",
              "      <td>398.000000</td>\n",
              "      <td>6645.000000</td>\n",
              "      <td>2001.000000</td>\n",
              "      <td>1.0</td>\n",
              "      <td>80.000000</td>\n",
              "      <td>66.000000</td>\n",
              "    </tr>\n",
              "  </tbody>\n",
              "</table>\n",
              "</div>"
            ],
            "text/plain": [
              "        duration_sec  start_station_id  ...            age  duration_minute\n",
              "count  173532.000000     173532.000000  ...  173532.000000    173532.000000\n",
              "mean      621.756097        138.935585  ...      36.117062        10.362602\n",
              "std       454.228496        111.471298  ...       9.868000         7.570475\n",
              "min        61.000000          3.000000  ...      20.000000         1.016667\n",
              "25%       322.000000         47.000000  ...      29.000000         5.366667\n",
              "50%       508.000000        104.000000  ...      34.000000         8.466667\n",
              "75%       781.000000        239.000000  ...      41.000000        13.016667\n",
              "max      3960.000000        398.000000  ...      80.000000        66.000000\n",
              "\n",
              "[8 rows x 8 columns]"
            ]
          },
          "metadata": {
            "tags": []
          },
          "execution_count": 53
        }
      ]
    },
    {
      "cell_type": "markdown",
      "metadata": {
        "id": "5v8GlJIRT8Pl"
      },
      "source": [
        "### note\n",
        "1- avarage age 36 years.\n",
        "\n",
        "2- avarge trip duration 704 sec."
      ]
    },
    {
      "cell_type": "code",
      "metadata": {
        "id": "MYtEEs9xT8Pm",
        "colab": {
          "base_uri": "https://localhost:8080/"
        },
        "outputId": "1480209f-647e-49be-cabc-aa922200eb96"
      },
      "source": [
        "#check\n",
        "df.info()"
      ],
      "execution_count": 54,
      "outputs": [
        {
          "output_type": "stream",
          "text": [
            "<class 'pandas.core.frame.DataFrame'>\n",
            "Int64Index: 173532 entries, 4 to 183411\n",
            "Data columns (total 17 columns):\n",
            " #   Column              Non-Null Count   Dtype         \n",
            "---  ------              --------------   -----         \n",
            " 0   duration_sec        173532 non-null  int64         \n",
            " 1   start_time          173532 non-null  datetime64[ns]\n",
            " 2   end_time            173532 non-null  datetime64[ns]\n",
            " 3   start_station_id    173532 non-null  float64       \n",
            " 4   start_station_name  173532 non-null  object        \n",
            " 5   end_station_id      173532 non-null  float64       \n",
            " 6   end_station_name    173532 non-null  object        \n",
            " 7   bike_id             173532 non-null  int64         \n",
            " 8   user_type           173532 non-null  object        \n",
            " 9   member_birth_year   173532 non-null  float64       \n",
            " 10  member_gender       173532 non-null  object        \n",
            " 11  count               173532 non-null  int64         \n",
            " 12  age                 173532 non-null  float64       \n",
            " 13  month               173532 non-null  object        \n",
            " 14  day                 173532 non-null  object        \n",
            " 15  hour                173532 non-null  object        \n",
            " 16  duration_minute     173532 non-null  float64       \n",
            "dtypes: datetime64[ns](2), float64(5), int64(3), object(7)\n",
            "memory usage: 23.8+ MB\n"
          ],
          "name": "stdout"
        }
      ]
    },
    {
      "cell_type": "markdown",
      "metadata": {
        "id": "RCeIQCcAT8Pm"
      },
      "source": [
        "### What is the structure of your dataset?\n",
        "\n",
        "> there are 174,952 records in the dataset with 12 features ( duration_sec , start_time , end_time , start_station_id , start_station_name , end_station_id , end_station_name , bike_id , user_type , member_birth_year , member_gender, age)\n",
        "### What is/are the main feature(s) of interest in your dataset?\n",
        "\n",
        "> 1-what is the avarage age of users?\n",
        " \n",
        "> 2-what is the most user type ?\n",
        "\n",
        "> 3-what is the most gender  ?  \n",
        "\n",
        "> 4- what is the most day of the week ?\n",
        "\n",
        "> 5-what  the relationshipe between Age and trip duration  ?\n",
        "\n",
        "> 6-what the gender majorty users and majorty users type    ?\n",
        "\n",
        "> 7-what the most Day of the week for the users gender and users Types ?\n",
        "\n",
        "\n",
        "### What features in the dataset do you think will help support your investigation into your feature(s) of interest?\n",
        "\n",
        "> Trip Duration (seconds), Start Time and Date , End Time and Date, User Type , Member Year of Birth , Member Gender , age"
      ]
    },
    {
      "cell_type": "markdown",
      "metadata": {
        "id": "oBmoc_TRT8Pn"
      },
      "source": [
        "## Univariate Exploration\n",
        "\n",
        "> In this section, investigate distributions of individual variables. If\n",
        "you see unusual points or outliers, take a deeper look to clean things up\n",
        "and prepare yourself to look at relationships between variables."
      ]
    },
    {
      "cell_type": "markdown",
      "metadata": {
        "id": "PK51M0IyT8Pn"
      },
      "source": [
        "### figure 1 : \" what is the avarage age of users ?\""
      ]
    },
    {
      "cell_type": "code",
      "metadata": {
        "id": "jSwFVEV_T8Pn",
        "colab": {
          "base_uri": "https://localhost:8080/",
          "height": 367
        },
        "outputId": "f0c2c333-8e65-46dc-9122-5e22306a1798"
      },
      "source": [
        "#  plot the distribution of age .\n",
        "sb.set_style('darkgrid')\n",
        "binsize = 5\n",
        "bins = np.arange(0, df['age'].max()+binsize, binsize)\n",
        "\n",
        "plt.figure(figsize=[8, 5])\n",
        "plt.hist(data = df, x = 'age', bins = bins , label= 'age in year')\n",
        "plt.title('Distribution of the  user age')\n",
        "plt.xlabel('User age')\n",
        "plt.ylabel('Count')\n",
        "plt.axis([10, 100, 0, 55000])\n",
        "plt.legend()"
      ],
      "execution_count": 55,
      "outputs": [
        {
          "output_type": "execute_result",
          "data": {
            "text/plain": [
              "<matplotlib.legend.Legend at 0x7f3b02d29690>"
            ]
          },
          "metadata": {
            "tags": []
          },
          "execution_count": 55
        },
        {
          "output_type": "display_data",
          "data": {
            "image/png": "[encoded data removed]",
            "text/plain": [
              "<Figure size 576x360 with 1 Axes>"
            ]
          },
          "metadata": {
            "tags": []
          }
        }
      ]
    },
    {
      "cell_type": "markdown",
      "metadata": {
        "id": "kXoiCh8fT8Po"
      },
      "source": [
        "\n",
        "> We can see the the above plot is right-screwed, with a long tail on the right.\n",
        "\n",
        "> the most user age from 30 :35 years\n",
        "\n"
      ]
    },
    {
      "cell_type": "markdown",
      "metadata": {
        "id": "HVDuXi_kT8Po"
      },
      "source": [
        "### figure 2 : \" what is the most  user type ?\""
      ]
    },
    {
      "cell_type": "code",
      "metadata": {
        "id": "oucWcVcmT8Po",
        "colab": {
          "base_uri": "https://localhost:8080/",
          "height": 367
        },
        "outputId": "1e2aa436-811e-4575-b07d-a3a7762958a3"
      },
      "source": [
        "# types of users on bar chart.\n",
        "plt.figure(figsize=[8,5])\n",
        "plt.bar(x = df.user_type.value_counts().keys(),label= 'Number of user type', height = df.user_type.value_counts() )\n",
        "plt.xlabel('User Type')\n",
        "plt.ylabel('Number of Users')\n",
        "plt.title(' Users Types');\n",
        "plt.legend()"
      ],
      "execution_count": 56,
      "outputs": [
        {
          "output_type": "execute_result",
          "data": {
            "text/plain": [
              "<matplotlib.legend.Legend at 0x7f3b02596110>"
            ]
          },
          "metadata": {
            "tags": []
          },
          "execution_count": 56
        },
        {
          "output_type": "display_data",
          "data": {
            "image/png": "[encoded data removed]",
            "text/plain": [
              "<Figure size 576x360 with 1 Axes>"
            ]
          },
          "metadata": {
            "tags": []
          }
        }
      ]
    },
    {
      "cell_type": "markdown",
      "metadata": {
        "id": "tb8LutaAT8Pp"
      },
      "source": [
        "> We can see the the above plot is subscriber is the most user type"
      ]
    },
    {
      "cell_type": "markdown",
      "metadata": {
        "id": "Vcjo9VaAT8Pp"
      },
      "source": [
        "### figure 3 : \" what is the most gender   ?\""
      ]
    },
    {
      "cell_type": "code",
      "metadata": {
        "id": "5Q6IH47VT8Pp",
        "colab": {
          "base_uri": "https://localhost:8080/",
          "height": 350
        },
        "outputId": "74c7316d-6c76-48c0-d991-792e02699161"
      },
      "source": [
        "# plotting genders on bar chart.\n",
        "base_color = sb.color_palette('colorblind')[0]\n",
        "plt.figure(figsize=[8,5])\n",
        "sb.countplot(data = df , x = 'member_gender',color=base_color );\n",
        "plt.xlabel('Member Gender');\n",
        "plt.title('Gender Users');\n",
        "plt.ylabel('Number of Users');"
      ],
      "execution_count": 57,
      "outputs": [
        {
          "output_type": "display_data",
          "data": {
            "image/png": "[encoded data removed]",
            "text/plain": [
              "<Figure size 576x360 with 1 Axes>"
            ]
          },
          "metadata": {
            "tags": []
          }
        }
      ]
    },
    {
      "cell_type": "markdown",
      "metadata": {
        "id": "tgZGY3igT8Pq"
      },
      "source": [
        "> We can see the the above plot is male is the most Gender"
      ]
    },
    {
      "cell_type": "markdown",
      "metadata": {
        "id": "w0jNZ0TAT8Pq"
      },
      "source": [
        "### figure 4 : \" what is the most day of the week  ?\""
      ]
    },
    {
      "cell_type": "code",
      "metadata": {
        "id": "7N6CdpLhT8Pq",
        "colab": {
          "base_uri": "https://localhost:8080/",
          "height": 367
        },
        "outputId": "c05084ea-ca38-43ec-bbae-129b333e9fa2"
      },
      "source": [
        "#most day of the week\n",
        "plt.figure(figsize=[10,5])\n",
        "plt.bar(x = df.day.value_counts().keys(), height = df.day.value_counts(), label = 'The day of week')\n",
        "plt.xlabel('Days')\n",
        "plt.ylabel('Number of Trips')\n",
        "plt.title('Distribution of Trips per Day')\n",
        "plt.legend()"
      ],
      "execution_count": 58,
      "outputs": [
        {
          "output_type": "execute_result",
          "data": {
            "text/plain": [
              "<matplotlib.legend.Legend at 0x7f3b04380a90>"
            ]
          },
          "metadata": {
            "tags": []
          },
          "execution_count": 58
        },
        {
          "output_type": "display_data",
          "data": {
            "image/png": "[encoded data removed]",
            "text/plain": [
              "<Figure size 720x360 with 1 Axes>"
            ]
          },
          "metadata": {
            "tags": []
          }
        }
      ]
    },
    {
      "cell_type": "markdown",
      "metadata": {
        "id": "HAYgeEHxT8Pr"
      },
      "source": [
        "### Note\n",
        "- clear from the above plot the thursday is most day of the week"
      ]
    },
    {
      "cell_type": "markdown",
      "metadata": {
        "id": "45X5d-XPT8Pr"
      },
      "source": [
        "## Bivariate Exploration\n",
        "\n",
        "> we will see the correlation between (trip duration) and (age)."
      ]
    },
    {
      "cell_type": "markdown",
      "metadata": {
        "id": "JoJqrOhMT8Pr"
      },
      "source": [
        "### figure 5 : \" what  the relationshipe between Age and trip duration  ?\""
      ]
    },
    {
      "cell_type": "code",
      "metadata": {
        "id": "b1tc-3esT8Ps",
        "colab": {
          "base_uri": "https://localhost:8080/",
          "height": 367
        },
        "outputId": "c6ef44e1-c41d-4e54-96b0-040323e081cd"
      },
      "source": [
        "plt.figure(figsize=[10,5])\n",
        "\n",
        "plt.scatter( df['age'], df['duration_sec'], alpha = 0.25, marker = 'o' )\n",
        "plt.axis([-5, 145, 500, 10500])\n",
        "plt.xlabel('Age (years)')\n",
        "plt.ylabel('Duaration (sec)')\n",
        "plt.title('Relation between the Users ages and Trip Duration')\n"
      ],
      "execution_count": 59,
      "outputs": [
        {
          "output_type": "execute_result",
          "data": {
            "text/plain": [
              "Text(0.5, 1.0, 'Relation between the Users ages and Trip Duration')"
            ]
          },
          "metadata": {
            "tags": []
          },
          "execution_count": 59
        },
        {
          "output_type": "display_data",
          "data": {
            "image/png": "[encoded data removed]",
            "text/plain": [
              "<Figure size 720x360 with 1 Axes>"
            ]
          },
          "metadata": {
            "tags": []
          }
        }
      ]
    },
    {
      "cell_type": "markdown",
      "metadata": {
        "id": "GxrDYyOET8Ps"
      },
      "source": [
        "### figure 6 : \" what  the gender majorty users and majorty users type ?\""
      ]
    },
    {
      "cell_type": "code",
      "metadata": {
        "id": "Qkb-AUgoT8Ps",
        "colab": {
          "base_uri": "https://localhost:8080/",
          "height": 295
        },
        "outputId": "bfd755b0-1c27-4c92-e936-fd1d8f534632"
      },
      "source": [
        "# user types with the different genders\n",
        "sb.countplot(data = df , x = 'member_gender', hue = 'user_type');\n",
        "plt.xlabel('User Type');\n",
        "plt.title('User Type and Gender');\n",
        "plt.ylabel('Number of Trips');"
      ],
      "execution_count": 60,
      "outputs": [
        {
          "output_type": "display_data",
          "data": {
            "image/png": "[encoded data removed]",
            "text/plain": [
              "<Figure size 432x288 with 1 Axes>"
            ]
          },
          "metadata": {
            "tags": []
          }
        }
      ]
    },
    {
      "cell_type": "markdown",
      "metadata": {
        "id": "504LbBdYT8Pt"
      },
      "source": [
        "### Note\n",
        "1- The male gender is the  majorty User in gender .\n",
        "\n",
        "2-Subscriber user customer is majorty User  in type User ."
      ]
    },
    {
      "cell_type": "code",
      "metadata": {
        "colab": {
          "base_uri": "https://localhost:8080/",
          "height": 279
        },
        "id": "MCboJxxuJ8ls",
        "outputId": "baed1924-e628-4493-d1f4-bc74c596dd48"
      },
      "source": [
        "\n",
        "\n",
        "sb.boxplot(data=df, x='user_type', y='duration_minute', color=base_color);plt.xlabel('Gender');\n",
        "plt.ylabel('Trip Duration in Minute');"
      ],
      "execution_count": 61,
      "outputs": [
        {
          "output_type": "display_data",
          "data": {
            "image/png": "[encoded data removed]",
            "text/plain": [
              "<Figure size 432x288 with 1 Axes>"
            ]
          },
          "metadata": {
            "tags": []
          }
        }
      ]
    },
    {
      "cell_type": "markdown",
      "metadata": {
        "id": "3uDkDy6_X0j2"
      },
      "source": [
        "**Note : the avarge of duration for the custmer is higher than subscriber**"
      ]
    },
    {
      "cell_type": "code",
      "metadata": {
        "colab": {
          "base_uri": "https://localhost:8080/",
          "height": 279
        },
        "id": "ok6mb6ayTy_m",
        "outputId": "2a181341-7418-4398-9cf0-bd1cd4f7fa8c"
      },
      "source": [
        "sb.boxplot(data=df, x='member_gender', y='duration_minute', color=base_color);plt.xlabel('Gender');\n",
        "plt.ylabel('Trip Duration in Minute');"
      ],
      "execution_count": 62,
      "outputs": [
        {
          "output_type": "display_data",
          "data": {
            "image/png": "[encoded data removed]",
            "text/plain": [
              "<Figure size 432x288 with 1 Axes>"
            ]
          },
          "metadata": {
            "tags": []
          }
        }
      ]
    },
    {
      "cell_type": "markdown",
      "metadata": {
        "id": "Ge1vWwHBYeE5"
      },
      "source": [
        "**the avarege of duration for male and female is nearly the same**"
      ]
    },
    {
      "cell_type": "markdown",
      "metadata": {
        "id": "S8TTHy4YT8Pt"
      },
      "source": [
        "### Talk about some of the relationships you observed in this part of the investigation. How did the feature(s) of interest vary with other features in the dataset?\n",
        "\n",
        "> (Trip Duration) is very dependendable on the (age) of the member avarage age about 25 : 35 take the trip in shorter time than the older\n",
        "\n",
        "### Did you observe any interesting relationships between the other features (not the main feature(s) of interest)?\n",
        "\n",
        ">   (Trip Duration) is very dependendable on the (gender) of the member tha male take the trip in shorter time than the female"
      ]
    },
    {
      "cell_type": "markdown",
      "metadata": {
        "id": "Pagxnqj1T8Pu"
      },
      "source": [
        "## Multivariate Exploration\n",
        "\n",
        "> we will see now the two categorical (gender) and (user type) into the relationship between (trip duration) and (age)"
      ]
    },
    {
      "cell_type": "markdown",
      "metadata": {
        "id": "6QpZVEzET8Pu"
      },
      "source": [
        "### figure 7 : \" what  the most Day of the week for the users gender and users Types  ?\""
      ]
    },
    {
      "cell_type": "code",
      "metadata": {
        "id": "JlwMR4eeT8Pw",
        "colab": {
          "base_uri": "https://localhost:8080/",
          "height": 1000
        },
        "outputId": "de0d21da-684d-4cc2-d125-f484c2b2a982"
      },
      "source": [
        "#plotting the user types and gender to check how they relate to trip duration\n",
        "sb.catplot(data=df,x='day',col='member_gender', \n",
        "           hue='user_type', col_wrap = 1, \n",
        "           height = 5, aspect=2, \n",
        "           sharey=False, kind='count')\n",
        "plt.xlabel('Days')\n",
        "plt.ylabel('Duration')"
      ],
      "execution_count": 63,
      "outputs": [
        {
          "output_type": "execute_result",
          "data": {
            "text/plain": [
              "Text(25.527586805555558, 0.5, 'Duration')"
            ]
          },
          "metadata": {
            "tags": []
          },
          "execution_count": 63
        },
        {
          "output_type": "display_data",
          "data": {
            "image/png": "[encoded data removed]",
            "text/plain": [
              "<Figure size 809.125x1080 with 3 Axes>"
            ]
          },
          "metadata": {
            "tags": []
          }
        }
      ]
    },
    {
      "cell_type": "markdown",
      "metadata": {
        "id": "snp-ULXzT8Px"
      },
      "source": [
        "### Note\n",
        "1- the thursday is most day of the week of users genders and users types"
      ]
    },
    {
      "cell_type": "markdown",
      "metadata": {
        "id": "LBA5YVamT8Px"
      },
      "source": [
        "### Talk about some of the relationships you observed in this part of the investigation. Were there features that strengthened each other in terms of looking at your feature(s) of interest?\n",
        "\n",
        ">It is clear in above figure the male is the most than the female \n",
        "\n",
        "### Were there any interesting or surprising interactions between features?\n",
        "\n",
        "> But also the ratio of the female from the total female > the ratio of the male from total male"
      ]
    },
    {
      "cell_type": "code",
      "metadata": {
        "id": "6cHzBj1jT8Px"
      },
      "source": [
        ""
      ],
      "execution_count": 63,
      "outputs": []
    },
    {
      "cell_type": "code",
      "metadata": {
        "id": "3VLvNw9sT8Px"
      },
      "source": [
        ""
      ],
      "execution_count": 63,
      "outputs": []
    }
  ]
}